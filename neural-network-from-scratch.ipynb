{
 "cells": [
  {
   "cell_type": "code",
   "execution_count": 1,
   "id": "d0b545b9",
   "metadata": {
    "_cell_guid": "b1076dfc-b9ad-4769-8c92-a6c4dae69d19",
    "_uuid": "8f2839f25d086af736a60e9eeb907d3b93b6e0e5",
    "execution": {
     "iopub.execute_input": "2022-12-28T09:17:44.451085Z",
     "iopub.status.busy": "2022-12-28T09:17:44.450180Z",
     "iopub.status.idle": "2022-12-28T09:17:44.465431Z",
     "shell.execute_reply": "2022-12-28T09:17:44.464536Z"
    },
    "papermill": {
     "duration": 0.02691,
     "end_time": "2022-12-28T09:17:44.469103",
     "exception": false,
     "start_time": "2022-12-28T09:17:44.442193",
     "status": "completed"
    },
    "tags": []
   },
   "outputs": [
    {
     "name": "stdout",
     "output_type": "stream",
     "text": [
      "/kaggle/input/digit-recognizer/sample_submission.csv\n",
      "/kaggle/input/digit-recognizer/train.csv\n",
      "/kaggle/input/digit-recognizer/test.csv\n"
     ]
    }
   ],
   "source": [
    "# This Python 3 environment comes with many helpful analytics libraries installed\n",
    "# It is defined by the kaggle/python Docker image: https://github.com/kaggle/docker-python\n",
    "# For example, here's several helpful packages to load\n",
    "\n",
    "import numpy as np # linear algebra\n",
    "import pandas as pd # data processing, CSV file I/O (e.g. pd.read_csv)\n",
    "\n",
    "# Input data files are available in the read-only \"../input/\" directory\n",
    "# For example, running this (by clicking run or pressing Shift+Enter) will list all files under the input directory\n",
    "\n",
    "import os\n",
    "for dirname, _, filenames in os.walk('/kaggle/input'):\n",
    "    for filename in filenames:\n",
    "        print(os.path.join(dirname, filename))\n",
    "\n",
    "# You can write up to 20GB to the current directory (/kaggle/working/) that gets preserved as output when you create a version using \"Save & Run All\" \n",
    "# You can also write temporary files to /kaggle/temp/, but they won't be saved outside of the current session"
   ]
  },
  {
   "cell_type": "code",
   "execution_count": 2,
   "id": "a8c1d5ca",
   "metadata": {
    "execution": {
     "iopub.execute_input": "2022-12-28T09:17:44.480162Z",
     "iopub.status.busy": "2022-12-28T09:17:44.479754Z",
     "iopub.status.idle": "2022-12-28T09:17:44.484229Z",
     "shell.execute_reply": "2022-12-28T09:17:44.483317Z"
    },
    "papermill": {
     "duration": 0.012869,
     "end_time": "2022-12-28T09:17:44.486557",
     "exception": false,
     "start_time": "2022-12-28T09:17:44.473688",
     "status": "completed"
    },
    "tags": []
   },
   "outputs": [],
   "source": [
    "import numpy as np\n",
    "import pandas as pd\n",
    "from matplotlib import pyplot as plt"
   ]
  },
  {
   "cell_type": "code",
   "execution_count": 3,
   "id": "813eaaa8",
   "metadata": {
    "execution": {
     "iopub.execute_input": "2022-12-28T09:17:44.498382Z",
     "iopub.status.busy": "2022-12-28T09:17:44.497884Z",
     "iopub.status.idle": "2022-12-28T09:17:48.472765Z",
     "shell.execute_reply": "2022-12-28T09:17:48.471246Z"
    },
    "papermill": {
     "duration": 3.984539,
     "end_time": "2022-12-28T09:17:48.475707",
     "exception": false,
     "start_time": "2022-12-28T09:17:44.491168",
     "status": "completed"
    },
    "tags": []
   },
   "outputs": [],
   "source": [
    "data = pd.read_csv('/kaggle/input/digit-recognizer/train.csv')"
   ]
  },
  {
   "cell_type": "code",
   "execution_count": 4,
   "id": "043dc520",
   "metadata": {
    "execution": {
     "iopub.execute_input": "2022-12-28T09:17:48.487002Z",
     "iopub.status.busy": "2022-12-28T09:17:48.485698Z",
     "iopub.status.idle": "2022-12-28T09:17:49.541646Z",
     "shell.execute_reply": "2022-12-28T09:17:49.540237Z"
    },
    "papermill": {
     "duration": 1.064547,
     "end_time": "2022-12-28T09:17:49.544582",
     "exception": false,
     "start_time": "2022-12-28T09:17:48.480035",
     "status": "completed"
    },
    "tags": []
   },
   "outputs": [],
   "source": [
    "data = np.array(data)\n",
    "m, n = data.shape\n",
    "np.random.shuffle(data) # shuffle before splitting into dev and training sets\n",
    "\n",
    "data_dev = data[0:1000].T\n",
    "Y_dev = data_dev[0]\n",
    "X_dev = data_dev[1:n]\n",
    "X_dev = X_dev / 255.\n",
    "\n",
    "data_train = data[1000:m].T\n",
    "Y_train = data_train[0]\n",
    "X_train = data_train[1:n]\n",
    "X_train = X_train / 255.\n",
    "_,m_train = X_train.shape"
   ]
  },
  {
   "cell_type": "code",
   "execution_count": 5,
   "id": "3cc6113e",
   "metadata": {
    "execution": {
     "iopub.execute_input": "2022-12-28T09:17:49.554978Z",
     "iopub.status.busy": "2022-12-28T09:17:49.554556Z",
     "iopub.status.idle": "2022-12-28T09:17:49.566136Z",
     "shell.execute_reply": "2022-12-28T09:17:49.565162Z"
    },
    "papermill": {
     "duration": 0.019318,
     "end_time": "2022-12-28T09:17:49.568394",
     "exception": false,
     "start_time": "2022-12-28T09:17:49.549076",
     "status": "completed"
    },
    "tags": []
   },
   "outputs": [
    {
     "data": {
      "text/plain": [
       "array([0, 7, 9, ..., 1, 0, 8])"
      ]
     },
     "execution_count": 5,
     "metadata": {},
     "output_type": "execute_result"
    }
   ],
   "source": [
    "Y_train"
   ]
  },
  {
   "cell_type": "code",
   "execution_count": 6,
   "id": "922916fb",
   "metadata": {
    "execution": {
     "iopub.execute_input": "2022-12-28T09:17:49.579684Z",
     "iopub.status.busy": "2022-12-28T09:17:49.579255Z",
     "iopub.status.idle": "2022-12-28T09:17:49.593803Z",
     "shell.execute_reply": "2022-12-28T09:17:49.592227Z"
    },
    "papermill": {
     "duration": 0.023428,
     "end_time": "2022-12-28T09:17:49.596472",
     "exception": false,
     "start_time": "2022-12-28T09:17:49.573044",
     "status": "completed"
    },
    "tags": []
   },
   "outputs": [],
   "source": [
    "def init_params():\n",
    "    W1 = np.random.rand(10, 784) - 0.5\n",
    "    b1 = np.random.rand(10, 1) - 0.5\n",
    "    W2 = np.random.rand(10, 10) - 0.5\n",
    "    b2 = np.random.rand(10, 1) - 0.5\n",
    "    return W1, b1, W2, b2\n",
    "\n",
    "def ReLU(Z):\n",
    "    return np.maximum(Z, 0)\n",
    "\n",
    "def softmax(Z):\n",
    "    A = np.exp(Z) / sum(np.exp(Z))\n",
    "    return A\n",
    "    \n",
    "def forward_prop(W1, b1, W2, b2, X):\n",
    "    Z1 = W1.dot(X) + b1\n",
    "    A1 = ReLU(Z1)\n",
    "    Z2 = W2.dot(A1) + b2\n",
    "    A2 = softmax(Z2)\n",
    "    return Z1, A1, Z2, A2\n",
    "\n",
    "def ReLU_deriv(Z):\n",
    "    return Z > 0\n",
    "\n",
    "def one_hot(Y):\n",
    "    one_hot_Y = np.zeros((Y.size, Y.max() + 1))\n",
    "    one_hot_Y[np.arange(Y.size), Y] = 1\n",
    "    one_hot_Y = one_hot_Y.T\n",
    "    return one_hot_Y\n",
    "\n",
    "def backward_prop(Z1, A1, Z2, A2, W1, W2, X, Y):\n",
    "    one_hot_Y = one_hot(Y)\n",
    "    dZ2 = A2 - one_hot_Y\n",
    "    dW2 = 1 / m * dZ2.dot(A1.T)\n",
    "    db2 = 1 / m * np.sum(dZ2)\n",
    "    dZ1 = W2.T.dot(dZ2) * ReLU_deriv(Z1)\n",
    "    dW1 = 1 / m * dZ1.dot(X.T)\n",
    "    db1 = 1 / m * np.sum(dZ1)\n",
    "    return dW1, db1, dW2, db2\n",
    "\n",
    "def update_params(W1, b1, W2, b2, dW1, db1, dW2, db2, alpha):\n",
    "    W1 = W1 - alpha * dW1\n",
    "    b1 = b1 - alpha * db1    \n",
    "    W2 = W2 - alpha * dW2  \n",
    "    b2 = b2 - alpha * db2    \n",
    "    return W1, b1, W2, b2"
   ]
  },
  {
   "cell_type": "code",
   "execution_count": 7,
   "id": "2f2352ee",
   "metadata": {
    "execution": {
     "iopub.execute_input": "2022-12-28T09:17:49.606875Z",
     "iopub.status.busy": "2022-12-28T09:17:49.606461Z",
     "iopub.status.idle": "2022-12-28T09:17:49.615279Z",
     "shell.execute_reply": "2022-12-28T09:17:49.614287Z"
    },
    "papermill": {
     "duration": 0.016841,
     "end_time": "2022-12-28T09:17:49.617649",
     "exception": false,
     "start_time": "2022-12-28T09:17:49.600808",
     "status": "completed"
    },
    "tags": []
   },
   "outputs": [],
   "source": [
    "def get_predictions(A2):\n",
    "    return np.argmax(A2, 0)\n",
    "\n",
    "def get_accuracy(predictions, Y):\n",
    "    print(predictions, Y)\n",
    "    return np.sum(predictions == Y) / Y.size\n",
    "\n",
    "def gradient_descent(X, Y, alpha, iterations):\n",
    "    W1, b1, W2, b2 = init_params()\n",
    "    for i in range(iterations):\n",
    "        Z1, A1, Z2, A2 = forward_prop(W1, b1, W2, b2, X)\n",
    "        dW1, db1, dW2, db2 = backward_prop(Z1, A1, Z2, A2, W1, W2, X, Y)\n",
    "        W1, b1, W2, b2 = update_params(W1, b1, W2, b2, dW1, db1, dW2, db2, alpha)\n",
    "        if i % 10 == 0:\n",
    "            print(\"Iteration: \", i)\n",
    "            predictions = get_predictions(A2)\n",
    "            print(get_accuracy(predictions, Y))\n",
    "    return W1, b1, W2, b2"
   ]
  },
  {
   "cell_type": "code",
   "execution_count": 8,
   "id": "719091b2",
   "metadata": {
    "execution": {
     "iopub.execute_input": "2022-12-28T09:17:49.629505Z",
     "iopub.status.busy": "2022-12-28T09:17:49.627966Z",
     "iopub.status.idle": "2022-12-28T09:19:59.148735Z",
     "shell.execute_reply": "2022-12-28T09:19:59.147011Z"
    },
    "papermill": {
     "duration": 129.531834,
     "end_time": "2022-12-28T09:19:59.153874",
     "exception": false,
     "start_time": "2022-12-28T09:17:49.622040",
     "status": "completed"
    },
    "tags": []
   },
   "outputs": [
    {
     "name": "stdout",
     "output_type": "stream",
     "text": [
      "Iteration:  0\n",
      "[8 1 9 ... 8 7 8] [0 7 9 ... 1 0 8]\n",
      "0.1263658536585366\n",
      "Iteration:  10\n",
      "[7 7 9 ... 8 3 2] [0 7 9 ... 1 0 8]\n",
      "0.1891951219512195\n",
      "Iteration:  20\n",
      "[7 7 9 ... 1 3 2] [0 7 9 ... 1 0 8]\n",
      "0.2488780487804878\n",
      "Iteration:  30\n",
      "[3 7 9 ... 1 3 2] [0 7 9 ... 1 0 8]\n",
      "0.33451219512195124\n",
      "Iteration:  40\n",
      "[3 7 8 ... 1 3 2] [0 7 9 ... 1 0 8]\n",
      "0.3959756097560976\n",
      "Iteration:  50\n",
      "[3 7 8 ... 1 0 8] [0 7 9 ... 1 0 8]\n",
      "0.4453658536585366\n",
      "Iteration:  60\n",
      "[0 7 8 ... 1 0 8] [0 7 9 ... 1 0 8]\n",
      "0.48921951219512194\n",
      "Iteration:  70\n",
      "[0 7 8 ... 1 0 8] [0 7 9 ... 1 0 8]\n",
      "0.528219512195122\n",
      "Iteration:  80\n",
      "[0 7 8 ... 1 0 8] [0 7 9 ... 1 0 8]\n",
      "0.5629024390243902\n",
      "Iteration:  90\n",
      "[0 7 8 ... 1 0 8] [0 7 9 ... 1 0 8]\n",
      "0.5930975609756097\n",
      "Iteration:  100\n",
      "[0 7 9 ... 1 0 8] [0 7 9 ... 1 0 8]\n",
      "0.6198536585365854\n",
      "Iteration:  110\n",
      "[0 7 9 ... 1 0 8] [0 7 9 ... 1 0 8]\n",
      "0.6432682926829268\n",
      "Iteration:  120\n",
      "[0 7 9 ... 1 0 8] [0 7 9 ... 1 0 8]\n",
      "0.6649512195121952\n",
      "Iteration:  130\n",
      "[0 7 9 ... 1 0 8] [0 7 9 ... 1 0 8]\n",
      "0.6841951219512196\n",
      "Iteration:  140\n",
      "[0 7 9 ... 1 0 8] [0 7 9 ... 1 0 8]\n",
      "0.7008048780487804\n",
      "Iteration:  150\n",
      "[0 7 9 ... 1 0 8] [0 7 9 ... 1 0 8]\n",
      "0.7153658536585366\n",
      "Iteration:  160\n",
      "[0 7 9 ... 1 0 8] [0 7 9 ... 1 0 8]\n",
      "0.7280731707317073\n",
      "Iteration:  170\n",
      "[0 7 9 ... 1 0 8] [0 7 9 ... 1 0 8]\n",
      "0.7387560975609756\n",
      "Iteration:  180\n",
      "[0 7 9 ... 1 0 8] [0 7 9 ... 1 0 8]\n",
      "0.7485365853658537\n",
      "Iteration:  190\n",
      "[0 7 9 ... 1 0 8] [0 7 9 ... 1 0 8]\n",
      "0.7570243902439024\n",
      "Iteration:  200\n",
      "[0 7 9 ... 1 0 8] [0 7 9 ... 1 0 8]\n",
      "0.7644878048780488\n",
      "Iteration:  210\n",
      "[0 7 9 ... 1 0 8] [0 7 9 ... 1 0 8]\n",
      "0.7716341463414634\n",
      "Iteration:  220\n",
      "[0 7 9 ... 1 0 8] [0 7 9 ... 1 0 8]\n",
      "0.7777317073170732\n",
      "Iteration:  230\n",
      "[0 7 9 ... 1 0 8] [0 7 9 ... 1 0 8]\n",
      "0.7835121951219512\n",
      "Iteration:  240\n",
      "[0 7 9 ... 1 0 8] [0 7 9 ... 1 0 8]\n",
      "0.7888536585365854\n",
      "Iteration:  250\n",
      "[0 7 9 ... 1 0 8] [0 7 9 ... 1 0 8]\n",
      "0.792829268292683\n",
      "Iteration:  260\n",
      "[0 7 9 ... 1 0 8] [0 7 9 ... 1 0 8]\n",
      "0.7973658536585366\n",
      "Iteration:  270\n",
      "[0 7 9 ... 1 0 8] [0 7 9 ... 1 0 8]\n",
      "0.8013902439024391\n",
      "Iteration:  280\n",
      "[0 7 9 ... 1 0 8] [0 7 9 ... 1 0 8]\n",
      "0.8055121951219513\n",
      "Iteration:  290\n",
      "[0 7 9 ... 1 0 8] [0 7 9 ... 1 0 8]\n",
      "0.8087804878048781\n",
      "Iteration:  300\n",
      "[0 7 9 ... 1 0 8] [0 7 9 ... 1 0 8]\n",
      "0.8124146341463415\n",
      "Iteration:  310\n",
      "[0 7 9 ... 1 0 8] [0 7 9 ... 1 0 8]\n",
      "0.8157073170731707\n",
      "Iteration:  320\n",
      "[0 7 9 ... 1 0 8] [0 7 9 ... 1 0 8]\n",
      "0.8184634146341463\n",
      "Iteration:  330\n",
      "[0 7 9 ... 1 0 8] [0 7 9 ... 1 0 8]\n",
      "0.8212439024390243\n",
      "Iteration:  340\n",
      "[0 7 9 ... 1 0 8] [0 7 9 ... 1 0 8]\n",
      "0.8239024390243902\n",
      "Iteration:  350\n",
      "[0 7 9 ... 1 0 8] [0 7 9 ... 1 0 8]\n",
      "0.8260487804878048\n",
      "Iteration:  360\n",
      "[0 7 9 ... 1 0 8] [0 7 9 ... 1 0 8]\n",
      "0.8279756097560975\n",
      "Iteration:  370\n",
      "[0 7 9 ... 1 0 8] [0 7 9 ... 1 0 8]\n",
      "0.8298536585365853\n",
      "Iteration:  380\n",
      "[0 7 9 ... 1 0 8] [0 7 9 ... 1 0 8]\n",
      "0.8317560975609756\n",
      "Iteration:  390\n",
      "[0 7 9 ... 1 0 8] [0 7 9 ... 1 0 8]\n",
      "0.834\n",
      "Iteration:  400\n",
      "[0 7 9 ... 1 0 8] [0 7 9 ... 1 0 8]\n",
      "0.835780487804878\n",
      "Iteration:  410\n",
      "[0 7 9 ... 1 0 8] [0 7 9 ... 1 0 8]\n",
      "0.8374146341463414\n",
      "Iteration:  420\n",
      "[0 7 9 ... 1 0 8] [0 7 9 ... 1 0 8]\n",
      "0.8390731707317073\n",
      "Iteration:  430\n",
      "[0 7 9 ... 1 0 8] [0 7 9 ... 1 0 8]\n",
      "0.8407317073170731\n",
      "Iteration:  440\n",
      "[0 7 9 ... 1 0 8] [0 7 9 ... 1 0 8]\n",
      "0.8419512195121951\n",
      "Iteration:  450\n",
      "[0 7 9 ... 1 0 8] [0 7 9 ... 1 0 8]\n",
      "0.8433658536585366\n",
      "Iteration:  460\n",
      "[0 7 9 ... 1 0 8] [0 7 9 ... 1 0 8]\n",
      "0.8447560975609756\n",
      "Iteration:  470\n",
      "[0 7 9 ... 1 0 8] [0 7 9 ... 1 0 8]\n",
      "0.8461951219512195\n",
      "Iteration:  480\n",
      "[0 7 9 ... 1 0 8] [0 7 9 ... 1 0 8]\n",
      "0.8474878048780488\n",
      "Iteration:  490\n",
      "[0 7 9 ... 1 0 8] [0 7 9 ... 1 0 8]\n",
      "0.8485609756097561\n",
      "Iteration:  500\n",
      "[0 7 9 ... 1 0 8] [0 7 9 ... 1 0 8]\n",
      "0.8495365853658536\n",
      "Iteration:  510\n",
      "[0 7 9 ... 1 0 8] [0 7 9 ... 1 0 8]\n",
      "0.8506585365853658\n",
      "Iteration:  520\n",
      "[0 7 9 ... 1 0 8] [0 7 9 ... 1 0 8]\n",
      "0.8518048780487805\n",
      "Iteration:  530\n",
      "[0 7 9 ... 1 0 8] [0 7 9 ... 1 0 8]\n",
      "0.8529024390243902\n",
      "Iteration:  540\n",
      "[0 7 9 ... 1 0 8] [0 7 9 ... 1 0 8]\n",
      "0.8543414634146341\n",
      "Iteration:  550\n",
      "[0 7 9 ... 1 0 8] [0 7 9 ... 1 0 8]\n",
      "0.8550487804878049\n",
      "Iteration:  560\n",
      "[0 7 9 ... 1 0 8] [0 7 9 ... 1 0 8]\n",
      "0.8561707317073171\n",
      "Iteration:  570\n",
      "[0 7 9 ... 1 0 8] [0 7 9 ... 1 0 8]\n",
      "0.8570731707317073\n",
      "Iteration:  580\n",
      "[0 7 9 ... 1 0 8] [0 7 9 ... 1 0 8]\n",
      "0.8584390243902439\n",
      "Iteration:  590\n",
      "[0 7 9 ... 1 0 8] [0 7 9 ... 1 0 8]\n",
      "0.8593658536585366\n",
      "Iteration:  600\n",
      "[0 7 9 ... 1 0 8] [0 7 9 ... 1 0 8]\n",
      "0.86\n",
      "Iteration:  610\n",
      "[0 7 9 ... 1 0 8] [0 7 9 ... 1 0 8]\n",
      "0.8608048780487805\n",
      "Iteration:  620\n",
      "[0 7 9 ... 1 0 8] [0 7 9 ... 1 0 8]\n",
      "0.8616341463414634\n",
      "Iteration:  630\n",
      "[0 7 9 ... 1 0 8] [0 7 9 ... 1 0 8]\n",
      "0.8626585365853658\n",
      "Iteration:  640\n",
      "[0 7 9 ... 1 0 8] [0 7 9 ... 1 0 8]\n",
      "0.8636585365853658\n",
      "Iteration:  650\n",
      "[0 7 9 ... 1 0 8] [0 7 9 ... 1 0 8]\n",
      "0.8644146341463415\n",
      "Iteration:  660\n",
      "[0 7 9 ... 1 0 8] [0 7 9 ... 1 0 8]\n",
      "0.8650487804878049\n",
      "Iteration:  670\n",
      "[0 7 9 ... 1 0 8] [0 7 9 ... 1 0 8]\n",
      "0.8657317073170732\n",
      "Iteration:  680\n",
      "[0 7 9 ... 1 0 8] [0 7 9 ... 1 0 8]\n",
      "0.8664146341463415\n",
      "Iteration:  690\n",
      "[0 7 9 ... 1 0 8] [0 7 9 ... 1 0 8]\n",
      "0.8668292682926829\n",
      "Iteration:  700\n",
      "[0 7 9 ... 1 0 8] [0 7 9 ... 1 0 8]\n",
      "0.8674878048780488\n",
      "Iteration:  710\n",
      "[0 7 9 ... 1 0 8] [0 7 9 ... 1 0 8]\n",
      "0.8682926829268293\n",
      "Iteration:  720\n",
      "[0 7 9 ... 1 0 8] [0 7 9 ... 1 0 8]\n",
      "0.8689756097560976\n",
      "Iteration:  730\n",
      "[0 7 9 ... 1 0 8] [0 7 9 ... 1 0 8]\n",
      "0.8696585365853658\n",
      "Iteration:  740\n",
      "[0 7 9 ... 1 0 8] [0 7 9 ... 1 0 8]\n",
      "0.8701707317073171\n"
     ]
    }
   ],
   "source": [
    "W1, b1, W2, b2 = gradient_descent(X_train, Y_train, 0.12, 750)"
   ]
  },
  {
   "cell_type": "code",
   "execution_count": 9,
   "id": "691c3683",
   "metadata": {
    "execution": {
     "iopub.execute_input": "2022-12-28T09:19:59.212265Z",
     "iopub.status.busy": "2022-12-28T09:19:59.211511Z",
     "iopub.status.idle": "2022-12-28T09:19:59.228321Z",
     "shell.execute_reply": "2022-12-28T09:19:59.226369Z"
    },
    "papermill": {
     "duration": 0.057061,
     "end_time": "2022-12-28T09:19:59.233519",
     "exception": false,
     "start_time": "2022-12-28T09:19:59.176458",
     "status": "completed"
    },
    "tags": []
   },
   "outputs": [],
   "source": [
    "def make_predictions(X, W1, b1, W2, b2):\n",
    "    _, _, _, A2 = forward_prop(W1, b1, W2, b2, X)\n",
    "    predictions = get_predictions(A2)\n",
    "    return predictions\n",
    "\n",
    "def test_prediction(index, W1, b1, W2, b2):\n",
    "    current_image = X_train[:, index, None]\n",
    "    prediction = make_predictions(X_train[:, index, None], W1, b1, W2, b2)\n",
    "    label = Y_train[index]\n",
    "    print(\"Prediction: \", prediction)\n",
    "    print(\"Label: \", label)\n",
    "    \n",
    "    current_image = current_image.reshape((28, 28)) * 255\n",
    "    plt.gray()\n",
    "    plt.imshow(current_image, interpolation='nearest')\n",
    "    plt.show()"
   ]
  },
  {
   "cell_type": "markdown",
   "id": "ec038595",
   "metadata": {
    "papermill": {
     "duration": 0.013793,
     "end_time": "2022-12-28T09:19:59.270568",
     "exception": false,
     "start_time": "2022-12-28T09:19:59.256775",
     "status": "completed"
    },
    "tags": []
   },
   "source": [
    "EXAMPLES\n"
   ]
  },
  {
   "cell_type": "code",
   "execution_count": 10,
   "id": "0f801e4c",
   "metadata": {
    "execution": {
     "iopub.execute_input": "2022-12-28T09:19:59.289441Z",
     "iopub.status.busy": "2022-12-28T09:19:59.289072Z",
     "iopub.status.idle": "2022-12-28T09:20:00.099668Z",
     "shell.execute_reply": "2022-12-28T09:20:00.098143Z"
    },
    "papermill": {
     "duration": 0.82344,
     "end_time": "2022-12-28T09:20:00.102576",
     "exception": false,
     "start_time": "2022-12-28T09:19:59.279136",
     "status": "completed"
    },
    "tags": []
   },
   "outputs": [
    {
     "name": "stdout",
     "output_type": "stream",
     "text": [
      "Prediction:  [2]\n",
      "Label:  2\n"
     ]
    },
    {
     "data": {
      "image/png": "[encoded data removed]",
      "text/plain": [
       "<Figure size 432x288 with 1 Axes>"
      ]
     },
     "metadata": {
      "needs_background": "light"
     },
     "output_type": "display_data"
    },
    {
     "name": "stdout",
     "output_type": "stream",
     "text": [
      "Prediction:  [6]\n",
      "Label:  6\n"
     ]
    },
    {
     "data": {
      "image/png": "[encoded data removed]",
      "text/plain": [
       "<Figure size 432x288 with 1 Axes>"
      ]
     },
     "metadata": {
      "needs_background": "light"
     },
     "output_type": "display_data"
    },
    {
     "name": "stdout",
     "output_type": "stream",
     "text": [
      "Prediction:  [3]\n",
      "Label:  5\n"
     ]
    },
    {
     "data": {
      "image/png": "[encoded data removed]",
      "text/plain": [
       "<Figure size 432x288 with 1 Axes>"
      ]
     },
     "metadata": {
      "needs_background": "light"
     },
     "output_type": "display_data"
    },
    {
     "name": "stdout",
     "output_type": "stream",
     "text": [
      "Prediction:  [0]\n",
      "Label:  0\n"
     ]
    },
    {
     "data": {
      "image/png": "[encoded data removed]",
      "text/plain": [
       "<Figure size 432x288 with 1 Axes>"
      ]
     },
     "metadata": {
      "needs_background": "light"
     },
     "output_type": "display_data"
    }
   ],
   "source": [
    "test_prediction(22, W1, b1, W2, b2)\n",
    "test_prediction(13, W1, b1, W2, b2)\n",
    "test_prediction(25, W1, b1, W2, b2)\n",
    "test_prediction(34, W1, b1, W2, b2)"
   ]
  },
  {
   "cell_type": "markdown",
   "id": "1d934137",
   "metadata": {
    "papermill": {
     "duration": 0.009586,
     "end_time": "2022-12-28T09:20:00.122634",
     "exception": false,
     "start_time": "2022-12-28T09:20:00.113048",
     "status": "completed"
    },
    "tags": []
   },
   "source": [
    "Running on testing set\n"
   ]
  },
  {
   "cell_type": "code",
   "execution_count": 11,
   "id": "a1115bef",
   "metadata": {
    "execution": {
     "iopub.execute_input": "2022-12-28T09:20:00.144962Z",
     "iopub.status.busy": "2022-12-28T09:20:00.144430Z",
     "iopub.status.idle": "2022-12-28T09:20:00.174839Z",
     "shell.execute_reply": "2022-12-28T09:20:00.173269Z"
    },
    "papermill": {
     "duration": 0.054193,
     "end_time": "2022-12-28T09:20:00.186974",
     "exception": false,
     "start_time": "2022-12-28T09:20:00.132781",
     "status": "completed"
    },
    "tags": []
   },
   "outputs": [
    {
     "name": "stdout",
     "output_type": "stream",
     "text": [
      "[9 8 5 9 7 8 5 7 8 3 6 2 8 1 1 1 3 4 6 9 4 3 8 5 4 1 0 9 3 5 4 3 7 5 8 7 9\n",
      " 4 8 4 6 2 7 5 6 0 6 3 8 7 0 6 9 1 8 7 4 6 9 6 1 6 4 0 9 6 2 1 1 2 3 1 6 7\n",
      " 9 6 0 5 7 1 9 7 9 2 4 1 6 6 4 8 6 3 8 3 3 6 7 5 8 7 9 2 6 2 0 9 7 5 2 4 4\n",
      " 9 8 8 9 5 7 3 8 1 7 1 5 9 6 6 6 0 5 9 2 5 8 3 2 5 7 0 7 7 1 6 3 3 2 3 4 0\n",
      " 1 9 0 9 1 9 6 1 6 6 7 4 0 2 3 0 8 3 0 4 3 9 3 7 9 3 8 8 8 6 9 6 7 5 7 5 6\n",
      " 7 7 6 7 6 6 2 3 7 8 5 7 5 2 7 0 3 9 5 1 2 2 1 1 1 9 6 9 9 7 0 0 3 2 2 3 8\n",
      " 4 8 4 3 7 9 8 8 3 8 5 7 1 2 4 2 3 4 3 4 5 5 1 2 2 4 5 9 3 1 2 9 5 1 7 4 1\n",
      " 6 3 2 4 0 9 1 4 1 0 8 0 0 4 8 5 7 9 6 6 6 0 2 7 1 6 8 4 1 1 7 3 8 1 8 7 3\n",
      " 0 0 2 8 9 3 1 4 8 2 8 7 4 1 3 5 4 9 2 4 1 1 1 0 6 9 2 0 3 2 0 6 5 7 6 0 3\n",
      " 6 6 3 1 4 4 4 3 8 8 6 9 2 6 8 5 0 9 5 1 1 9 9 5 2 0 9 3 4 2 1 6 2 7 8 4 1\n",
      " 7 2 2 3 1 5 9 8 1 8 9 2 0 1 3 7 9 9 1 6 3 3 5 8 8 7 1 6 9 4 7 5 2 8 1 6 1\n",
      " 8 0 7 5 6 9 3 0 0 3 9 6 8 9 2 1 4 6 8 0 9 7 0 1 5 4 4 8 5 7 8 2 7 3 1 9 5\n",
      " 1 1 6 8 4 8 1 5 5 6 0 8 9 8 5 7 9 8 7 8 8 6 0 3 4 4 7 3 5 2 6 5 7 8 5 9 1\n",
      " 1 9 5 5 5 7 2 5 6 3 2 9 0 9 2 7 6 0 7 7 3 5 3 7 2 3 4 3 5 5 9 6 0 9 8 1 2\n",
      " 7 4 6 7 6 2 7 6 5 2 1 4 9 7 5 2 7 9 1 8 4 7 4 3 0 0 7 4 3 6 9 8 3 6 1 4 0\n",
      " 7 3 7 2 6 6 5 0 8 4 6 7 8 8 0 9 7 0 1 7 8 1 9 7 7 2 9 2 9 1 0 4 7 8 6 6 7\n",
      " 2 5 7 6 6 9 6 9 2 7 0 5 5 2 7 4 9 1 3 9 7 5 9 0 3 1 9 6 8 7 3 9 1 8 5 2 2\n",
      " 8 5 7 8 6 6 3 2 9 0 3 2 9 5 6 8 9 2 2 6 0 0 3 0 7 2 8 5 2 1 6 1 5 4 1 1 0\n",
      " 1 7 2 6 4 3 0 7 8 4 5 9 7 5 9 2 7 0 0 0 3 7 2 6 0 1 8 8 2 9 1 8 7 0 0 0 8\n",
      " 6 3 7 1 7 1 6 2 6 4 4 1 3 4 1 0 4 1 7 0 1 6 0 6 6 1 2 3 5 2 5 5 6 4 1 5 1\n",
      " 1 6 5 8 3 9 7 3 3 0 9 5 7 4 4 4 4 6 8 2 2 4 7 1 8 3 0 0 3 4 7 3 5 5 8 7 2\n",
      " 1 5 6 3 6 7 0 4 0 5 1 4 0 4 7 6 6 8 9 1 2 7 8 7 3 9 0 3 3 2 7 0 8 1 2 2 0\n",
      " 7 9 3 8 7 5 1 2 8 1 6 9 8 8 8 2 5 7 1 7 6 0 1 1 7 5 2 1 2 9 1 0 2 6 9 6 1\n",
      " 0 8 0 8 3 9 1 0 9 5 6 1 2 5 9 6 7 2 0 1 2 1 1 9 9 1 1 6 9 1 6 4 1 6 3 9 7\n",
      " 7 5 6 1 7 5 1 5 4 0 7 3 5 6 6 1 2 0 9 2 1 6 3 5 1 2 3 2 1 3 1 4 3 8 8 4 1\n",
      " 5 8 7 6 7 9 0 9 0 6 7 6 9 1 1 2 8 3 3 2 5 9 4 7 8 1 1 6 9 4 3 8 1 8 6 8 5\n",
      " 8 6 2 0 4 4 9 9 4 2 8 2 3 7 3 2 0 1 9 9 6 7 6 6 6 0 6 3 2 8 0 6 7 4 0 1 6\n",
      " 4] [9 8 0 9 9 8 5 7 9 3 6 2 8 1 1 1 3 4 6 7 4 3 8 5 4 5 0 9 3 5 4 3 5 3 8 7 7\n",
      " 4 8 4 6 2 9 3 6 0 6 3 9 7 0 6 9 1 8 7 4 6 9 6 1 6 4 8 9 6 2 1 1 2 3 1 5 7\n",
      " 9 6 9 5 7 1 5 7 9 2 4 1 6 6 4 8 6 3 8 3 3 6 7 5 4 7 9 2 2 2 0 9 3 5 3 4 4\n",
      " 9 8 8 9 5 7 3 3 1 9 1 5 9 6 6 6 0 5 9 5 5 8 3 2 5 7 0 7 7 8 6 3 3 2 3 4 0\n",
      " 1 9 0 9 1 9 6 1 6 6 7 4 0 2 3 0 8 3 0 4 3 9 3 7 9 3 8 8 8 6 9 6 7 5 7 5 6\n",
      " 7 7 6 7 6 6 2 3 7 8 5 7 5 2 7 0 3 9 5 1 3 3 1 1 4 9 6 9 9 7 0 0 3 2 2 9 8\n",
      " 4 8 4 5 7 9 8 8 3 8 3 7 1 2 4 2 3 4 3 4 6 5 1 6 6 4 5 9 3 1 2 9 5 1 7 5 1\n",
      " 6 3 2 4 0 9 1 5 1 0 8 0 0 6 8 5 7 9 6 6 6 0 2 7 1 6 2 9 1 1 7 3 8 1 8 7 3\n",
      " 0 7 2 8 4 9 1 4 4 2 4 9 4 1 3 5 4 9 2 4 1 1 1 0 6 9 2 0 9 3 0 6 5 7 6 0 7\n",
      " 6 6 3 1 4 4 4 3 8 5 6 9 2 6 8 5 0 7 5 1 1 9 9 5 2 0 9 2 8 5 1 6 2 7 8 4 1\n",
      " 7 2 2 3 1 5 9 8 1 8 9 2 0 1 3 7 9 9 1 6 3 8 8 8 8 7 1 3 9 4 7 5 2 9 1 6 1\n",
      " 2 0 7 5 6 9 3 0 0 3 9 6 8 9 2 1 8 6 8 0 9 7 0 1 5 4 4 5 5 7 8 2 9 3 1 4 5\n",
      " 1 1 6 8 4 8 1 5 3 6 0 8 9 8 5 5 9 8 7 8 8 6 0 3 5 4 7 3 5 2 6 3 9 8 5 9 1\n",
      " 1 7 5 5 5 9 2 5 6 3 6 9 0 9 2 7 6 0 7 7 3 5 3 7 2 3 4 5 8 5 9 6 0 9 8 1 2\n",
      " 7 4 6 7 6 3 7 6 5 2 1 4 9 7 5 6 7 9 1 8 4 7 4 3 0 0 7 4 3 6 9 8 3 6 1 4 0\n",
      " 7 3 7 2 6 5 5 0 8 4 6 7 8 8 0 4 7 0 1 7 9 1 7 7 7 2 9 8 7 1 0 4 7 1 6 6 7\n",
      " 2 5 7 8 6 9 6 9 2 7 0 5 5 2 7 4 3 1 3 9 7 5 9 0 0 1 9 6 8 7 5 7 1 8 0 2 2\n",
      " 8 5 7 8 6 6 7 2 9 0 3 3 9 5 6 8 4 2 2 6 0 0 3 0 7 2 8 5 2 1 6 1 5 4 1 1 0\n",
      " 1 7 2 6 4 3 0 7 8 4 5 9 7 8 9 2 7 0 0 0 3 7 2 6 0 1 8 8 2 9 1 8 7 0 0 0 8\n",
      " 6 3 8 1 7 1 6 2 6 4 8 1 8 4 1 0 4 9 7 0 1 6 0 6 6 1 2 3 5 2 5 5 6 4 1 5 1\n",
      " 1 6 5 8 3 9 7 3 3 0 4 5 7 4 4 4 9 6 8 8 2 4 7 1 8 3 0 2 3 4 7 3 8 5 8 7 6\n",
      " 1 5 6 3 6 7 0 4 0 3 8 4 0 4 7 2 6 3 9 1 2 9 8 7 3 9 0 3 3 2 7 0 8 1 2 2 0\n",
      " 7 9 3 8 7 5 1 2 4 1 6 9 8 8 8 2 0 7 1 7 6 0 1 1 7 5 2 7 2 9 1 0 2 6 9 6 8\n",
      " 0 8 0 8 3 9 1 0 9 5 6 1 1 8 9 6 7 2 0 8 2 1 1 9 9 1 1 6 7 7 6 9 1 6 5 9 7\n",
      " 7 5 6 1 7 3 1 5 4 0 7 3 5 6 6 1 2 0 9 0 7 6 3 2 1 2 3 2 1 3 1 4 3 0 8 4 1\n",
      " 5 8 9 6 7 9 0 7 9 6 7 6 9 1 1 2 8 3 3 2 5 9 4 7 8 1 1 6 9 9 3 2 1 8 6 8 5\n",
      " 8 6 2 4 9 4 9 9 4 2 8 3 3 7 3 8 0 1 5 9 6 7 6 6 6 0 6 3 8 8 0 6 7 4 0 1 6\n",
      " 4]\n"
     ]
    },
    {
     "data": {
      "text/plain": [
       "0.869"
      ]
     },
     "execution_count": 11,
     "metadata": {},
     "output_type": "execute_result"
    }
   ],
   "source": [
    "dev_predictions = make_predictions(X_dev, W1, b1, W2, b2)\n",
    "get_accuracy(dev_predictions, Y_dev)"
   ]
  }
 ],
 "metadata": {
  "kernelspec": {
   "display_name": "Python 3",
   "language": "python",
   "name": "python3"
  },
  "language_info": {
   "codemirror_mode": {
    "name": "ipython",
    "version": 3
   },
   "file_extension": ".py",
   "mimetype": "text/x-python",
   "name": "python",
   "nbconvert_exporter": "python",
   "pygments_lexer": "ipython3",
   "version": "3.7.12"
  },
  "papermill": {
   "default_parameters": {},
   "duration": 145.486763,
   "end_time": "2022-12-28T09:20:01.054028",
   "environment_variables": {},
   "exception": null,
   "input_path": "__notebook__.ipynb",
   "output_path": "__notebook__.ipynb",
   "parameters": {},
   "start_time": "2022-12-28T09:17:35.567265",
   "version": "2.3.4"
  }
 },
 "nbformat": 4,
 "nbformat_minor": 5
}
